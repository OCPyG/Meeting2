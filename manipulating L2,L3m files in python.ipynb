{
 "cells": [
  {
   "cell_type": "code",
   "execution_count": 1,
   "metadata": {
    "collapsed": true
   },
   "outputs": [],
   "source": [
    "import netCDF4 as nc\n",
    "\n",
    "fpL2 ='../SampleData/S1997302193636_silent.L2' \n",
    "fpL3b = '../SampleData/S1997302193636_silent.L3b'\n",
    "fpL3m = '../SampleData/S1997302193636_silent.L3m'"
   ]
  },
  {
   "cell_type": "markdown",
   "metadata": {},
   "source": [
    "L2.nc"
   ]
  },
  {
   "cell_type": "code",
   "execution_count": null,
   "metadata": {
    "collapsed": true
   },
   "outputs": [],
   "source": [
    "# open file\n",
    "ds = nc.Dataset(fpL2)\n",
    "# most sci. data are store as variables in group geophysical data\n",
    "# groups and variables are both ordered dictionaries"
   ]
  },
  {
   "cell_type": "code",
   "execution_count": 53,
   "metadata": {
    "collapsed": false
   },
   "outputs": [
    {
     "data": {
      "text/plain": [
       "<class 'netCDF4._netCDF4.Dataset'>\n",
       "root group (NETCDF4 data model, file format UNDEFINED):\n",
       "    title: SeaWiFS Level-2 Data\n",
       "    product_name: S1997302193636_silent.L2\n",
       "    processing_version: Unspecified\n",
       "    equatorCrossingLongitude: -116.421\n",
       "    orbit_number: 1321\n",
       "    history: l2gen ifile=/disk02/UNCERTAINTIES/Monte-Carlo/Matchups/L1As/S1997302193636.L1A_MLAC.R0000020885_30N_30N_114W_114W.hdf ofile=/disk02/UNCERTAINTIES/Monte-Carlo/Matchups/L2/S1997302193636/S1997302193636_silent.L2 par=./parfiles/parfile_silent\n",
       "    instrument: SeaWiFS\n",
       "    platform: Orbview-2\n",
       "    Conventions: CF-1.6\n",
       "    Metadata_Conventions: Unidata Dataset Discovery v1.0\n",
       "    license: http://science.nasa.gov/earth-science/earth-science-data/data-information-policy/\n",
       "    naming_authority: gov.nasa.gsfc.sci.oceandata\n",
       "    id: L2/S1997302193636_silent.L2\n",
       "    date_created: 2016-06-20T19:03:10.000Z\n",
       "    keywords_vocabulary: NASA Global Change Master Directory (GCMD) Science Keywords\n",
       "    keywords: Oceans > Ocean Chemistry > Chlorophyll; Oceans > Ocean Optics > Ocean Color\n",
       "    standard_name_vocabulary: NetCDF Climate and Forecast (CF) Metadata Convention\n",
       "    institution: NASA Goddard Space Flight Center, Ocean Ecology Laboratory, Ocean Biology Processing Group\n",
       "    creator_name: NASA/GSFC/OBPG\n",
       "    creator_email: data@oceancolor.gsfc.nasa.gov\n",
       "    creator_url: http://oceandata.sci.gsfc.nasa.gov\n",
       "    project: Ocean Biology Processing Group (NASA/GSFC/OBPG)\n",
       "    publisher_name: NASA/GSFC/OBPG\n",
       "    publisher_url: http://oceandata.sci.gsfc.nasa.gov\n",
       "    publisher_email: data@oceancolor.gsfc.nasa.gov\n",
       "    identifier_product_doi_authority: http://dx.doi.org\n",
       "    identifier_product_doi: 10.5067/ORBVIEW-2/SEAWIFS_OC.2014.0\n",
       "    processing_level: L2\n",
       "    cdm_data_type: swath\n",
       "    equatorCrossingDateTime: 1997-10-29T19:53:26.592Z\n",
       "    spatialResolution: 1.1 km\n",
       "    time_coverage_start: 1997-10-29T19:44:52.277Z\n",
       "    time_coverage_end: 1997-10-29T19:45:08.943Z\n",
       "    start_center_longitude: -114.163\n",
       "    start_center_latitude: 30.7198\n",
       "    end_center_longitude: -114.387\n",
       "    end_center_latitude: 29.7148\n",
       "    northernmost_latitude: 30.8313\n",
       "    southernmost_latitude: 29.613\n",
       "    easternmost_longitude: -113.381\n",
       "    westernmost_longitude: -115.244\n",
       "    geospatial_lat_units: degrees_north\n",
       "    geospatial_lon_units: degrees_east\n",
       "    geospatial_lat_max: 30.8313\n",
       "    geospatial_lat_min: 29.613\n",
       "    geospatial_lon_max: -113.381\n",
       "    geospatial_lon_min: -115.244\n",
       "    startDirection: Descending\n",
       "    endDirection: Descending\n",
       "    day_night_flag: Day\n",
       "    earth_sun_distance_correction: 1.01395797729\n",
       "    dimensions(sizes): number_of_lines(101), pixels_per_line(101), pixel_control_points(101), number_of_bands(8), number_of_reflective_bands(8)\n",
       "    variables(dimensions): \n",
       "    groups: sensor_band_parameters, scan_line_attributes, geophysical_data, navigation_data, processing_control"
      ]
     },
     "execution_count": 53,
     "metadata": {},
     "output_type": "execute_result"
    }
   ],
   "source": [
    "ds"
   ]
  },
  {
   "cell_type": "code",
   "execution_count": 54,
   "metadata": {
    "collapsed": false
   },
   "outputs": [
    {
     "data": {
      "text/plain": [
       "<class 'netCDF4._netCDF4.Group'>\n",
       "group /sensor_band_parameters:\n",
       "    dimensions(sizes): \n",
       "    variables(dimensions): int32 \u001b[4mwavelength\u001b[0m(number_of_bands), float32 \u001b[4mvcal_gain\u001b[0m(number_of_reflective_bands), float32 \u001b[4mvcal_offset\u001b[0m(number_of_reflective_bands), float32 \u001b[4mF0\u001b[0m(number_of_reflective_bands), float32 \u001b[4maw\u001b[0m(number_of_reflective_bands), float32 \u001b[4mbbw\u001b[0m(number_of_reflective_bands), float32 \u001b[4mk_oz\u001b[0m(number_of_reflective_bands), float32 \u001b[4mk_no2\u001b[0m(number_of_reflective_bands), float32 \u001b[4mTau_r\u001b[0m(number_of_reflective_bands)\n",
       "    groups: "
      ]
     },
     "execution_count": 54,
     "metadata": {},
     "output_type": "execute_result"
    }
   ],
   "source": [
    "ds.groups['sensor_band_parameters']"
   ]
  },
  {
   "cell_type": "code",
   "execution_count": 55,
   "metadata": {
    "collapsed": false
   },
   "outputs": [
    {
     "data": {
      "text/plain": [
       "<class 'netCDF4._netCDF4.Group'>\n",
       "group /scan_line_attributes:\n",
       "    dimensions(sizes): \n",
       "    variables(dimensions): int32 \u001b[4myear\u001b[0m(number_of_lines), int32 \u001b[4mday\u001b[0m(number_of_lines), int32 \u001b[4mmsec\u001b[0m(number_of_lines), int8 \u001b[4mdetnum\u001b[0m(number_of_lines), int8 \u001b[4mmside\u001b[0m(number_of_lines), float32 \u001b[4mslon\u001b[0m(number_of_lines), float32 \u001b[4mclon\u001b[0m(number_of_lines), float32 \u001b[4melon\u001b[0m(number_of_lines), float32 \u001b[4mslat\u001b[0m(number_of_lines), float32 \u001b[4mclat\u001b[0m(number_of_lines), float32 \u001b[4melat\u001b[0m(number_of_lines), float32 \u001b[4mcsol_z\u001b[0m(number_of_lines)\n",
       "    groups: "
      ]
     },
     "execution_count": 55,
     "metadata": {},
     "output_type": "execute_result"
    }
   ],
   "source": [
    "ds.groups['scan_line_attributes']"
   ]
  },
  {
   "cell_type": "code",
   "execution_count": 52,
   "metadata": {
    "collapsed": false
   },
   "outputs": [
    {
     "data": {
      "text/plain": [
       "<class 'netCDF4._netCDF4.Group'>\n",
       "group /processing_control:\n",
       "    software_name: l2gen\n",
       "    software_version: 9.0.2-r12496\n",
       "    source: S1997302193636.L1A_MLAC.R0000020885_30N_30N_114W_114W.hdf,met_climatology_v2014.hdf,ozone_climatology_v2014.hdf,anc_cor_file_28jan2014.nc,seawifs_cal_2015.hdf,morel_fq.nc,aerosol_seawifs,seawifs_ocr_vc_nn,landmask_GMT15ARC.nc,watermask.dat,ETOPO1_ocssw.nc,ETOPO1_ocssw.nc,ice_climatology.hdf,sst_climatology.hdf,sss_climatology_woa2009.hdf,no2_climatology_v2013.hdf,alpha510_climatology.hdf,taua865_climatology.hdf,calcite_table.txt,owmc_lut.hdf\n",
       "    calibration_data: seawifs_cal_2015.hdf\n",
       "    mask_names: ATMFAIL,LAND,CLDICE,HILT\n",
       "    dimensions(sizes): \n",
       "    variables(dimensions): \n",
       "    groups: input_parameters, flag_percentages"
      ]
     },
     "execution_count": 52,
     "metadata": {},
     "output_type": "execute_result"
    }
   ],
   "source": [
    "ds.groups['processing_control']"
   ]
  },
  {
   "cell_type": "code",
   "execution_count": 58,
   "metadata": {
    "collapsed": false
   },
   "outputs": [
    {
     "data": {
      "text/plain": [
       "<class 'netCDF4._netCDF4.Group'>\n",
       "group /processing_control/input_parameters:\n",
       "    ifile: /disk02/UNCERTAINTIES/Monte-Carlo/Matchups/L1As/S1997302193636.L1A_MLAC.R0000020885_30N_30N_114W_114W.hdf\n",
       "    ofile: /disk02/UNCERTAINTIES/Monte-Carlo/Matchups/L2/S1997302193636/S1997302193636_silent.L2\n",
       "    l2prod: Lt_nnn solz sola senz sena Rrs_nnn chlor_a a_nnn_qaa bb_nnn_qaa aot_865 owtd\n",
       "    oformat: netCDF4\n",
       "    oformat_depth: 8bit\n",
       "    calfile: /disk01/home/ekarakoy/OCSSW/run/data/seawifs/cal/seawifs_cal_2015.hdf\n",
       "    fqfile: /disk01/home/ekarakoy/OCSSW/run/data/common/morel_fq.nc\n",
       "    parfile: \n",
       "    cldfile: \n",
       "    geofile: \n",
       "    metafile: \n",
       "    pversion: Unspecified\n",
       "    suite: OC\n",
       "    eval: 0\n",
       "    mode: 0\n",
       "    deflate: 4\n",
       "    spixl: 1\n",
       "    epixl: -1\n",
       "    dpixl: 1\n",
       "    sline: 1\n",
       "    eline: -1\n",
       "    dline: 1\n",
       "    ctl_pt_incr: 1\n",
       "    proc_ocean: 1\n",
       "    proc_land: 1\n",
       "    proc_sst: 0\n",
       "    atmocor: 1\n",
       "    seawater_opt: 1\n",
       "    aermodfile: /disk01/home/ekarakoy/OCSSW/run/data/seawifs/aerosol/aerosol_seawifs\n",
       "    aer_opt: -2\n",
       "    aer_wave_short: 765\n",
       "    aer_wave_long: 865\n",
       "    aer_swir_short: -1\n",
       "    aer_swir_long: -1\n",
       "    aer_rrs_short: -1.00000\n",
       "    aer_rrs_long: -1.00000\n",
       "    aer_angstrom: -999.00000\n",
       "    aer_iter_max: 10\n",
       "    brdf_opt: 7\n",
       "    gas_opt: 15\n",
       "    atrem_opt: 0\n",
       "    atrem_full: 0\n",
       "    atrem_geom: 0\n",
       "    atrem_model: 0\n",
       "    atrem_splitpaths: 0\n",
       "    iop_opt: 0\n",
       "    gsm_opt: 0\n",
       "    gsm_fit: 0\n",
       "    gsm_adg_s: 0.02061\n",
       "    gsm_bbp_s: 1.03373\n",
       "    gsm_aphw: 412.00000, 443.00000, 490.00000, 510.00000, 555.00000, 670.00000, -1.00000, -1.00000\n",
       "    gsm_aphs: 0.00665,  0.05582,  0.02055,  0.01910,  0.01015,  0.01424, -1.00000, -1.00000\n",
       "    qaa_adg_s: 0.01500\n",
       "    qaa_wave: 412,  443,  490,  555,  670\n",
       "    giop_maxiter: 50\n",
       "    giop_fit_opt: 1\n",
       "    giop_aph_opt: 2\n",
       "    giop_acdom_opt: 1\n",
       "    giop_anap_opt: 1\n",
       "    giop_adg_opt: 1\n",
       "    giop_bbp_opt: 3\n",
       "    giop_bbnap_opt: 1\n",
       "    giop_bbph_opt: 1\n",
       "    giop_rrs_opt: 0\n",
       "    giop_rrs_diff: 0.33000\n",
       "    giop_aph_file: /disk01/home/ekarakoy/OCSSW/run/data/common/aph_default.txt\n",
       "    giop_aph_s: -1000.00000\n",
       "    giop_adg_file: /disk01/home/ekarakoy/OCSSW/run/data/common/adg_default.txt\n",
       "    giop_adg_s: 0.01800\n",
       "    giop_bbp_file: /disk01/home/ekarakoy/OCSSW/run/data/common/bbp_default.txt\n",
       "    giop_bbp_s: -1000.00000\n",
       "    giop_acdom_file: \n",
       "    giop_anap_file: \n",
       "    giop_bbph_file: \n",
       "    giop_bbnap_file: \n",
       "    giop_grd: 0.09490,  0.07940\n",
       "    giop_wave: 412.0,  443.0,  490.0,  510.0,  555.0,  670.0,   -1.0,   -1.0\n",
       "    giop_rrs_unc: -1.0,   -1.0,   -1.0,   -1.0,   -1.0,   -1.0,   -1.0,   -1.0\n",
       "    polfile: \n",
       "    pol_opt: 0\n",
       "    rad_opt: 0\n",
       "    vcnnfile: /disk01/home/ekarakoy/OCSSW/run/data/seawifs/ocr_vc/seawifs_ocr_vc_nn\n",
       "    absaer_opt: -1\n",
       "    sl_pixl: -1\n",
       "    sl_frac: 0.2500\n",
       "    glint_opt: 1\n",
       "    resolution: -1\n",
       "    outband_opt: 2\n",
       "    cirrus_opt: 0\n",
       "    oxaband_opt: 1\n",
       "    filter_opt: 1\n",
       "    filter_file: /disk01/home/ekarakoy/OCSSW/run/data/seawifs/seawifs_lac_filter.dat\n",
       "    aerfile: \n",
       "    tgtfile: \n",
       "    met1: /disk01/home/ekarakoy/OCSSW/run/data/common/met_climatology_v2014.hdf\n",
       "    met2: \n",
       "    met3: \n",
       "    ozone1: /disk01/home/ekarakoy/OCSSW/run/data/common/ozone_climatology_v2014.hdf\n",
       "    ozone2: \n",
       "    ozone3: \n",
       "    anc_cor_file: /disk01/home/ekarakoy/OCSSW/run/data/common/anc_cor_file_28jan2014.nc\n",
       "    land: /disk01/home/ekarakoy/OCSSW/run/data/common/landmask_GMT15ARC.nc\n",
       "    water: /disk01/home/ekarakoy/OCSSW/run/data/common/watermask.dat\n",
       "    demfile: /disk01/home/ekarakoy/OCSSW/run/data/common/ETOPO1_ocssw.nc\n",
       "    elevfile: /disk01/home/ekarakoy/OCSSW/run/data/common/ETOPO1_ocssw.nc\n",
       "    elev_auxfile: \n",
       "    icefile: /disk01/home/ekarakoy/OCSSW/run/data/common/ice_climatology.hdf\n",
       "    sstfile: /disk01/home/ekarakoy/OCSSW/run/data/common/sst_climatology.hdf\n",
       "    sstreftype: 0\n",
       "    sssfile: /disk01/home/ekarakoy/OCSSW/run/data/common/sss_climatology_woa2009.hdf\n",
       "    no2file: /disk01/home/ekarakoy/OCSSW/run/data/common/no2_climatology_v2013.hdf\n",
       "    alphafile: /disk01/home/ekarakoy/OCSSW/run/data/common/alpha510_climatology.hdf\n",
       "    tauafile: /disk01/home/ekarakoy/OCSSW/run/data/common/taua865_climatology.hdf\n",
       "    picfile: /disk01/home/ekarakoy/OCSSW/run/data/common/calcite_table.txt\n",
       "    owmcfile: /disk01/home/ekarakoy/OCSSW/run/data/common/owmc_lut.hdf\n",
       "    prodxmlfile: \n",
       "    breflectfile: \n",
       "    aerbinfile: \n",
       "    gain: 0.9978,   0.9911,   0.9819,   0.9860,   0.9952,   0.9701,   0.9580,   1.0000\n",
       "    gain_unc: 0.0000, 0.000000, 0.000000, 0.000000, 0.000000, 0.000000, 0.000000, 0.000000\n",
       "    offset: 0.00000,  0.00000,  0.00000,  0.00000,  0.00000,  0.00000,  0.00000,  0.00000\n",
       "    naermodels: 80\n",
       "    aermodels: r30f95v01, r30f80v01, r30f50v01, r30f30v01, r30f20v01, r30f10v01, r30f05v01, r30f02v01, r30f01v01, r30f00v01, r50f95v01, r50f80v01, r50f50v01, r50f30v01, r50f20v01, r50f10v01, r50f05v01, r50f02v01, r50f01v01, r50f00v01, r70f95v01, r70f80v01, r70f50v01, r70f30v01, r70f20v01, r70f10v01, r70f05v01, r70f02v01, r70f01v01, r70f00v01, r75f95v01, r75f80v01, r75f50v01, r75f30v01, r75f20v01, r75f10v01, r75f05v01, r75f02v01, r75f01v01, r75f00v01, r80f95v01, r80f80v01, r80f50v01, r80f30v01, r80f20v01, r80f10v01, r80f05v01, r80f02v01, r80f01v01, r80f00v01, r85f95v01, r85f80v01, r85f50v01, r85f30v01, r85f20v01, r85f10v01, r85f05v01, r85f02v01, r85f01v01, r85f00v01, r90f95v01, r90f80v01, r90f50v01, r90f30v01, r90f20v01, r90f10v01, r90f05v01, r90f02v01, r90f01v01, r90f00v01, r95f95v01, r95f80v01, r95f50v01, r95f30v01, r95f20v01, r95f10v01, r95f05v01, r95f02v01, r95f01v01, r95f00v01\n",
       "    taua: 0.0000,   0.0000,   0.0000,   0.0000,   0.0000,   0.0000,   0.0000,   0.0000\n",
       "    aermodrat: 0.00000\n",
       "    aermodmin: -1\n",
       "    aermodmax: -1\n",
       "    cloud_wave: 865.000\n",
       "    cloud_thresh: 0.027\n",
       "    cloud_eps: -1.000\n",
       "    cirrus_thresh: -1.00000, -1.00000\n",
       "    absaer: 0.000\n",
       "    rhoamin: 0.00020\n",
       "    nlwmin: 0.150\n",
       "    hipol: 0.500\n",
       "    wsmax: 12.000\n",
       "    coccolith: 1.1000,   0.9000,   0.7500,   1.8500,   1.0000,   1.6500,   0.6000,   1.1500\n",
       "    tauamax: 0.300\n",
       "    epsmin: 0.800\n",
       "    epsmax: 1.350\n",
       "    glint_thresh: 0.005\n",
       "    windspeed: -1000.000\n",
       "    windangle: -1000.000\n",
       "    pressure: -1000.000\n",
       "    ozone: -1000.000\n",
       "    watervapor: -1000.000\n",
       "    relhumid: -1000.000\n",
       "    ice_threshold: 0.100\n",
       "    sunzen: 70.000\n",
       "    satzen: 60.000\n",
       "    maskland: 1\n",
       "    maskbath: 0\n",
       "    maskcloud: 1\n",
       "    maskglint: 0\n",
       "    masksunzen: 0\n",
       "    masksatzen: 0\n",
       "    maskhilt: 1\n",
       "    maskstlight: 0\n",
       "    mumm_alpha: 1.720\n",
       "    mumm_gamma: 1.000\n",
       "    mumm_epsilon: 1.000\n",
       "    chloc2_wave: 489,  555\n",
       "    chloc2_coef: 0.25110, -2.08530,  1.50350, -3.17470,  0.33830\n",
       "    chloc3_wave: 443,  489,  555\n",
       "    chloc3_coef: 0.25150, -2.37980,  1.58230, -0.63720, -0.56920\n",
       "    chloc4_wave: 443,  489,  510,  555\n",
       "    chloc4_coef: 0.32720, -2.99400,  2.72180, -1.22590, -0.56830\n",
       "    kd2_wave: 490,  555\n",
       "    kd2_coef: 0.01660, -0.85150, -1.82630,  1.87140, -2.44140, -1.06900\n",
       "    flh_offset: 0.00000\n",
       "    btfile: \n",
       "    sstcoeffile: \n",
       "    sstssesfile: \n",
       "    sst4coeffile: \n",
       "    sst4ssesfile: \n",
       "    sst3coeffile: \n",
       "    sst3ssesfile: \n",
       "    vcal_opt: -1\n",
       "    vcal_nlw: 0.0000,   0.0000,   0.0000,   0.0000,   0.0000,   0.0000,   0.0000,   0.0000\n",
       "    vcal_lw: 0.0000,   0.0000,   0.0000,   0.0000,   0.0000,   0.0000,   0.0000,   0.0000\n",
       "    vcal_chl: -1.0000\n",
       "    vcal_solz: -1.0000\n",
       "    vcal_depth: -1000.0000\n",
       "    vcal_min_nbin: 4\n",
       "    vcal_min_nscene: 3\n",
       "    xcalfile: \n",
       "    xcal_opt: 0\n",
       "    xcal_wave: -1.0000\n",
       "    band_shift_opt: 0\n",
       "    add_noise_sigma: 0.0000\n",
       "    noise_scale: 1.0000, 1.0000, 1.0000, 1.0000, 1.0000, 1.0000, 1.0000, 1.0000\n",
       "    wiggle_band: 0\n",
       "    wiggle_by: 0.0000\n",
       "    stype: 0\n",
       "    datamin: 0.0100\n",
       "    datamax: 0.9000\n",
       "    north: -999.0000\n",
       "    south: -999.0000\n",
       "    east: -999.0000\n",
       "    west: -999.0000\n",
       "    xbox: -1\n",
       "    ybox: -1\n",
       "    raman_opt: 0\n",
       "    width: 600\n",
       "    threshold: 0.1000\n",
       "    rgb: 1, 1, 1\n",
       "    subsamp: 1\n",
       "    viirsnv7: -1\n",
       "    viirsnosisaf: 0\n",
       "    sstrefdif: 100.0000\n",
       "    newavhrrcal: 0\n",
       "    ch22detcor: 1.000000,  1.000000,  1.000000,  1.000000,  1.000000,  1.000000,  1.000000,  1.000000,  1.000000,  1.000000\n",
       "    ch23detcor: 1.000000,  1.000000,  1.000000,  1.000000,  1.000000,  1.000000,  1.000000,  1.000000,  1.000000,  1.000000\n",
       "    dimensions(sizes): \n",
       "    variables(dimensions): \n",
       "    groups: "
      ]
     },
     "execution_count": 58,
     "metadata": {},
     "output_type": "execute_result"
    }
   ],
   "source": [
    "ds.groups['processing_control'].groups['input_parameters']"
   ]
  },
  {
   "cell_type": "code",
   "execution_count": 57,
   "metadata": {
    "collapsed": false
   },
   "outputs": [
    {
     "data": {
      "text/plain": [
       "odict_keys(['Lt_412', 'Lt_443', 'Lt_490', 'Lt_510', 'Lt_555', 'Lt_670', 'Lt_765', 'Lt_865', 'solz', 'sola', 'senz', 'sena', 'Rrs_412', 'Rrs_443', 'Rrs_490', 'Rrs_510', 'Rrs_555', 'Rrs_670', 'Rrs_765', 'Rrs_865', 'chlor_a', 'a_412_qaa', 'a_443_qaa', 'a_490_qaa', 'a_510_qaa', 'a_555_qaa', 'a_670_qaa', 'a_765_qaa', 'a_865_qaa', 'bb_412_qaa', 'bb_443_qaa', 'bb_490_qaa', 'bb_510_qaa', 'bb_555_qaa', 'bb_670_qaa', 'bb_765_qaa', 'bb_865_qaa', 'aot_865', 'owtd', 'l2_flags'])"
      ]
     },
     "execution_count": 57,
     "metadata": {},
     "output_type": "execute_result"
    }
   ],
   "source": [
    "ds.groups['geophysical_data'].variables.keys()"
   ]
  },
  {
   "cell_type": "code",
   "execution_count": null,
   "metadata": {
    "collapsed": true
   },
   "outputs": [],
   "source": [
    "gv = ds.groups['geophysical_data'].variables\n",
    "# some of this data is masked (rrs and derivatives) lt is not.\n",
    "# so assignment of this data will result in a masked numpy array in the first case, in a simple numpy array otherwise\n",
    "#ex:\n",
    "rrs412 = gv['Rrs_412'][:] # masked array (TRUE=BAD DATA!!)\n",
    "lt412 = gv['Lt_412'][:]"
   ]
  },
  {
   "cell_type": "code",
   "execution_count": 59,
   "metadata": {
    "collapsed": false
   },
   "outputs": [],
   "source": [
    "ds.close() # don't forget to close when done reading"
   ]
  },
  {
   "cell_type": "code",
   "execution_count": 10,
   "metadata": {
    "collapsed": false
   },
   "outputs": [
    {
     "name": "stdout",
     "output_type": "stream",
     "text": [
      "10201\n",
      "(101, 101)\n",
      "float32\n",
      "<class 'numpy.ma.core.MaskedArray'>\n"
     ]
    }
   ],
   "source": [
    "print(rrs412.size)\n",
    "print(rrs412.shape)\n",
    "print(rrs412.dtype)\n",
    "print(type(rrs412))"
   ]
  },
  {
   "cell_type": "code",
   "execution_count": 12,
   "metadata": {
    "collapsed": false
   },
   "outputs": [
    {
     "name": "stdout",
     "output_type": "stream",
     "text": [
      "6813\n",
      "(6813,)\n",
      "float32\n",
      "<class 'numpy.ndarray'>\n"
     ]
    }
   ],
   "source": [
    "print(rrs412.compressed().size)\n",
    "print(rrs412.compressed().shape)\n",
    "print(rrs412.compressed().dtype)\n",
    "print(type(rrs412.compressed()))"
   ]
  },
  {
   "cell_type": "code",
   "execution_count": 11,
   "metadata": {
    "collapsed": false
   },
   "outputs": [
    {
     "name": "stdout",
     "output_type": "stream",
     "text": [
      "['T', '__abs__', '__add__', '__and__', '__array__', '__array_finalize__', '__array_interface__', '__array_prepare__', '__array_priority__', '__array_struct__', '__array_wrap__', '__bool__', '__class__', '__contains__', '__copy__', '__deepcopy__', '__delattr__', '__delitem__', '__dict__', '__dir__', '__div__', '__divmod__', '__doc__', '__eq__', '__float__', '__floordiv__', '__format__', '__ge__', '__getattribute__', '__getitem__', '__getslice__', '__getstate__', '__gt__', '__hash__', '__iadd__', '__iand__', '__idiv__', '__ifloordiv__', '__ilshift__', '__imatmul__', '__imod__', '__imul__', '__index__', '__init__', '__int__', '__invert__', '__ior__', '__ipow__', '__irshift__', '__isub__', '__iter__', '__itruediv__', '__ixor__', '__le__', '__len__', '__lshift__', '__lt__', '__matmul__', '__mod__', '__module__', '__mul__', '__ne__', '__neg__', '__new__', '__or__', '__pos__', '__pow__', '__radd__', '__rand__', '__rdivmod__', '__reduce__', '__reduce_ex__', '__repr__', '__rfloordiv__', '__rlshift__', '__rmatmul__', '__rmod__', '__rmul__', '__ror__', '__rpow__', '__rrshift__', '__rshift__', '__rsub__', '__rtruediv__', '__rxor__', '__setattr__', '__setitem__', '__setmask__', '__setslice__', '__setstate__', '__sizeof__', '__str__', '__sub__', '__subclasshook__', '__truediv__', '__xor__', '_baseclass', '_basedict', '_data', '_defaulthardmask', '_defaultmask', '_delegate_binop', '_fill_value', '_get_data', '_get_flat', '_get_mask', '_get_recordmask', '_hardmask', '_isfield', '_mask', '_optinfo', '_set_flat', '_set_mask', '_set_recordmask', '_sharedmask', '_update_from', 'all', 'anom', 'any', 'argmax', 'argmin', 'argpartition', 'argsort', 'astype', 'base', 'baseclass', 'byteswap', 'choose', 'clip', 'compress', 'compressed', 'conj', 'conjugate', 'copy', 'count', 'ctypes', 'cumprod', 'cumsum', 'data', 'diagonal', 'dot', 'dtype', 'dump', 'dumps', 'fill', 'fill_value', 'filled', 'flags', 'flat', 'flatten', 'get_fill_value', 'get_imag', 'get_real', 'getfield', 'harden_mask', 'hardmask', 'ids', 'imag', 'iscontiguous', 'item', 'itemset', 'itemsize', 'mask', 'max', 'mean', 'min', 'mini', 'nbytes', 'ndim', 'newbyteorder', 'nonzero', 'partition', 'prod', 'product', 'ptp', 'put', 'ravel', 'real', 'recordmask', 'repeat', 'reshape', 'resize', 'round', 'searchsorted', 'set_fill_value', 'setfield', 'setflags', 'shape', 'sharedmask', 'shrink_mask', 'size', 'soften_mask', 'sort', 'squeeze', 'std', 'strides', 'sum', 'swapaxes', 'take', 'tobytes', 'tofile', 'toflex', 'tolist', 'torecords', 'tostring', 'trace', 'transpose', 'unshare_mask', 'var', 'view']\n"
     ]
    }
   ],
   "source": [
    "print(dir(rrs412))"
   ]
  },
  {
   "cell_type": "code",
   "execution_count": 13,
   "metadata": {
    "collapsed": true
   },
   "outputs": [],
   "source": [
    "# Typical workflow:\n",
    "# collecting rrs and lt data at specific bands into a dictionaries for easier manipulation:\n",
    "bands=['412','443','490','510','555','670']\n",
    "rrsDict = dict.fromkeys(bands)\n",
    "ltDict = dict.fromkeys(bands)\n",
    "with nc.Dataset(fpL2) as ds:\n",
    "    gv = ds.groups['geophysical_data'].variables\n",
    "    for band in bands:\n",
    "        rrsDict[band] = gv['Rrs_' + band][:]\n",
    "        ltDict[band] = gv['Rrs_' + band][:]\n",
    "    # no need to close ds. \"with\" does it for you.\n",
    "    # from here you can manipulate data and masks, plot data, create new products and write new files or put \n",
    "    # store new products in the original netcdf file etc. \n",
    "    # Given some direction I can write something more specific."
   ]
  },
  {
   "cell_type": "markdown",
   "metadata": {},
   "source": [
    "L3b"
   ]
  },
  {
   "cell_type": "code",
   "execution_count": 60,
   "metadata": {
    "collapsed": true
   },
   "outputs": [],
   "source": [
    "ds=nc.Dataset(fpL3b)"
   ]
  },
  {
   "cell_type": "code",
   "execution_count": 15,
   "metadata": {
    "collapsed": false
   },
   "outputs": [
    {
     "name": "stdout",
     "output_type": "stream",
     "text": [
      "odict_keys(['level-3_binned_data', 'processing_control'])\n"
     ]
    }
   ],
   "source": [
    "print(ds.groups.keys())"
   ]
  },
  {
   "cell_type": "code",
   "execution_count": 16,
   "metadata": {
    "collapsed": false
   },
   "outputs": [
    {
     "name": "stdout",
     "output_type": "stream",
     "text": [
      "odict_keys(['BinList', 'Lt_412', 'Lt_443', 'Lt_490', 'Lt_510', 'Lt_555', 'Lt_670', 'Lt_765', 'Lt_865', 'solz', 'sola', 'senz', 'sena', 'Rrs_412', 'Rrs_443', 'Rrs_490', 'Rrs_510', 'Rrs_555', 'Rrs_670', 'Rrs_765', 'Rrs_865', 'chlor_a', 'a_412_qaa', 'a_443_qaa', 'a_490_qaa', 'a_510_qaa', 'a_555_qaa', 'a_670_qaa', 'a_765_qaa', 'a_865_qaa', 'bb_412_qaa', 'bb_443_qaa', 'bb_490_qaa', 'bb_510_qaa', 'bb_555_qaa', 'bb_670_qaa', 'bb_765_qaa', 'bb_865_qaa', 'aot_865', 'owtd', 'BinIndex'])\n"
     ]
    }
   ],
   "source": [
    "print(ds.groups['level-3_binned_data'].variables.keys())"
   ]
  },
  {
   "cell_type": "code",
   "execution_count": 61,
   "metadata": {
    "collapsed": false
   },
   "outputs": [
    {
     "name": "stdout",
     "output_type": "stream",
     "text": [
      "<class 'netCDF4._netCDF4.Variable'>\n",
      "compound BinList(binListDim)\n",
      "compound data type: {'names':['bin_num','nobs','nscenes','weights','time_rec'], 'formats':['<u4','<i2','<i2','<f4','<f4'], 'offsets':[0,4,6,8,12], 'itemsize':16, 'aligned':True}\n",
      "path = /level-3_binned_data\n",
      "unlimited dimensions: binListDim\n",
      "current shape = (159,)\n",
      "\n"
     ]
    }
   ],
   "source": [
    "print(ds.groups['level-3_binned_data'].variables['BinList'])"
   ]
  },
  {
   "cell_type": "code",
   "execution_count": 73,
   "metadata": {
    "collapsed": false
   },
   "outputs": [],
   "source": [
    "bl=ds.groups['level-3_binned_data'].variables['BinList'][:]"
   ]
  },
  {
   "cell_type": "code",
   "execution_count": 79,
   "metadata": {
    "collapsed": false
   },
   "outputs": [
    {
     "name": "stdout",
     "output_type": "stream",
     "text": [
      "[ 2.23606801  3.60555124  4.47213602  5.29150248  3.87298346  1.\n",
      "  5.19615221  7.07106781  7.14142847  7.14142847  7.28010988  7.14142847\n",
      "  1.73205078  2.23606801  5.19615221  6.70820379  7.          7.          7.\n",
      "  7.07106781  7.14142847  5.91608     2.23606801  6.40312433  6.92820311\n",
      "  7.          7.07106781  7.14142847  7.21110249  7.07106781  7.21110249\n",
      "  4.2426405   3.1622777   5.91608     7.          7.          7.          7.\n",
      "  7.07106781  7.07106781  7.07106781  7.14142847  4.69041586  6.78233004\n",
      "  6.85565472  6.92820311  6.92820311  7.07106781  7.21110249  7.07106781\n",
      "  7.07106781  7.34846926  5.65685415  1.41421354  6.          6.85565472\n",
      "  6.85565472  6.92820311  7.          7.          7.          7.\n",
      "  7.07106781  7.14142847  7.21110249  3.60555124  6.48074055  6.78233004\n",
      "  6.85565472  6.92820311  6.92820311  6.85565472  7.07106781  7.14142847\n",
      "  7.14142847  7.21110249  7.          6.24499798  4.          6.78233004\n",
      "  6.78233004  6.92820311  6.85565472  7.          7.07106781  7.\n",
      "  6.92820311  7.07106781  7.14142847  7.07106781  4.47213602  5.38516474\n",
      "  6.85565472  6.78233004  6.92820311  6.92820311  7.          6.92820311\n",
      "  7.07106781  7.14142847  7.14142847  7.21110249  7.14142847  1.41421354\n",
      "  3.1622777   4.35889912  6.78233004  6.85565472  6.92820311  6.92820311\n",
      "  7.07106781  7.          7.          7.07106781  7.07106781  7.14142847\n",
      "  5.91608     1.41421354  5.29150248  5.91608     6.92820311  6.78233004\n",
      "  7.          6.92820311  7.          7.          7.07106781  7.14142847\n",
      "  7.14142847  7.28010988  4.12310553  2.23606801  5.74456263  5.74456263\n",
      "  6.40312433  6.85565472  7.          6.85565472  7.          7.07106781\n",
      "  7.07106781  7.          6.40312433  5.91608     4.47213602  5.65685415\n",
      "  6.78233004  6.78233004  6.63324976  6.16441393  5.65685415  4.89897966\n",
      "  4.12310553  3.1622777   1.73205078  2.64575124  3.60555124  3.          1.        ]\n"
     ]
    }
   ],
   "source": [
    "print(bl)"
   ]
  },
  {
   "cell_type": "code",
   "execution_count": 33,
   "metadata": {
    "collapsed": false
   },
   "outputs": [
    {
     "name": "stdout",
     "output_type": "stream",
     "text": [
      "<class 'netCDF4._netCDF4.Group'>\n",
      "group /processing_control:\n",
      "    software_name: l2bin\n",
      "    software_version: 4.0.9\n",
      "    source: S1997302193636_silent.L2\n",
      "    l2_flag_names: ATMFAIL,LAND,HILT,HISATZEN,STRAYLIGHT,CLDICE,COCCOLITH,LOWLW,CHLWARN,CHLFAIL,NAVWARN,MAXAERITER,ATMWARN,HISOLZEN,NAVFAIL,FILTER,HIGLINT\n",
      "    dimensions(sizes): \n",
      "    variables(dimensions): \n",
      "    groups: input_parameters\n",
      "\n"
     ]
    }
   ],
   "source": [
    "print(ds.groups['processing_control'])"
   ]
  },
  {
   "cell_type": "code",
   "execution_count": 32,
   "metadata": {
    "collapsed": false
   },
   "outputs": [
    {
     "name": "stdout",
     "output_type": "stream",
     "text": [
      "ATMFAIL,LAND,HILT,HISATZEN,STRAYLIGHT,CLDICE,COCCOLITH,LOWLW,CHLWARN,CHLFAIL,NAVWARN,MAXAERITER,ATMWARN,HISOLZEN,NAVFAIL,FILTER,HIGLINT\n"
     ]
    }
   ],
   "source": [
    "print(ds.groups['processing_control'].l2_flag_names)"
   ]
  },
  {
   "cell_type": "code",
   "execution_count": 30,
   "metadata": {
    "collapsed": false
   },
   "outputs": [
    {
     "name": "stdout",
     "output_type": "stream",
     "text": [
      "<class 'netCDF4._netCDF4.Group'>\n",
      "group /processing_control/input_parameters:\n",
      "    infile: S1997302193636_silent.L2\n",
      "    ofile: S1997302193636_silent.L3b\n",
      "    oformat: \n",
      "    fileuse: \n",
      "    sday: 1970001\n",
      "    eday: 2038018\n",
      "    resolve: 9\n",
      "    rowgroup: 270\n",
      "    flaguse: ATMFAIL,LAND,HILT,HISATZEN,STRAYLIGHT,CLDICE,COCCOLITH,LOWLW,CHLWARN,CHLFAIL,NAVWARN,MAXAERITER,ATMWARN,HISOLZEN,NAVFAIL,FILTER,HIGLINT\n",
      "    l3bprod: Lt_412:Lt_443:Lt_490:Lt_510:Lt_555:Lt_670:Lt_765:Lt_865:solz:sola:senz:sena:Rrs_412:Rrs_443:Rrs_490:Rrs_510:Rrs_555:Rrs_670:Rrs_765:Rrs_865:chlor_a:a_412_qaa:a_443_qaa:a_490_qaa:a_510_qaa:a_555_qaa:a_670_qaa:a_765_qaa:a_865_qaa:bb_412_qaa:bb_443_qaa:bb_490_qaa:bb_510_qaa:bb_555_qaa:bb_670_qaa:bb_765_qaa:bb_865_qaa:aot_865:owtd:\n",
      "    prodtype: day\n",
      "    pversion: Unspecified\n",
      "    suite: \n",
      "    average: standard\n",
      "    night: 0\n",
      "    verbose: 0\n",
      "    minobs: 0\n",
      "    deflate: 0\n",
      "    qual_prod: \n",
      "    qual_max: 255\n",
      "    healpix: 0\n",
      "    dimensions(sizes): \n",
      "    variables(dimensions): \n",
      "    groups: \n",
      "\n"
     ]
    }
   ],
   "source": [
    "print(ds.groups['processing_control'].groups['input_parameters'])"
   ]
  },
  {
   "cell_type": "code",
   "execution_count": 80,
   "metadata": {
    "collapsed": true
   },
   "outputs": [],
   "source": [
    "ds.close()"
   ]
  },
  {
   "cell_type": "markdown",
   "metadata": {},
   "source": [
    "L3m"
   ]
  },
  {
   "cell_type": "code",
   "execution_count": 36,
   "metadata": {
    "collapsed": false
   },
   "outputs": [
    {
     "name": "stdout",
     "output_type": "stream",
     "text": [
      "<class 'netCDF4._netCDF4.Dataset'>\n",
      "root group (NETCDF4 data model, file format UNDEFINED):\n",
      "    product_name: S1997302193636_silent.L3m\n",
      "    instrument: SeaWiFS\n",
      "    title: SeaWiFS Level-3 Standard Mapped Image\n",
      "    project: Ocean Biology Processing Group (NASA/GSFC/OBPG)\n",
      "    platform: Orbview-2\n",
      "    temporal_range: 1-hour\n",
      "    processing_version: Unspecified\n",
      "    date_created: 2016-07-05T13:07:02.000Z\n",
      "    history: l3mapgen ifile=S1997302193636_silent.L3b ofile=S1997302193636_silent.L3m \n",
      "    l2_flag_names: ATMFAIL,LAND,HILT,HISATZEN,STRAYLIGHT,CLDICE,COCCOLITH,LOWLW,CHLWARN,CHLFAIL,NAVWARN,MAXAERITER,ATMWARN,HISOLZEN,NAVFAIL,FILTER,HIGLINT\n",
      "    time_coverage_start: 1997-10-29T19:44:52.000Z\n",
      "    time_coverage_end: 1997-10-29T19:45:08.000Z\n",
      "    start_orbit_number: 1321\n",
      "    end_orbit_number: 1321\n",
      "    map_projection: Equidistant Cylindrical\n",
      "    latitude_units: degrees_north\n",
      "    longitude_units: degrees_east\n",
      "    northernmost_latitude: 30.875\n",
      "    southernmost_latitude: 29.7083\n",
      "    westernmost_longitude: -114.673\n",
      "    easternmost_longitude: -113.389\n",
      "    geospatial_lat_max: 30.875\n",
      "    geospatial_lat_min: 29.7083\n",
      "    geospatial_lon_max: -113.389\n",
      "    geospatial_lon_min: -114.673\n",
      "    grid_mapping_name: latitude_longitude\n",
      "    latitude_step: 0.0897435\n",
      "    longitude_step: 0.0856171\n",
      "    sw_point_latitude: 29.7532\n",
      "    sw_point_longitude: -114.63\n",
      "    geospatial_lon_resolution: 9.27662\n",
      "    geospatial_lat_resolution: 9.27662\n",
      "    geospatial_lat_units: degrees_north\n",
      "    geospatial_lon_units: degrees_east\n",
      "    spatialResolution: 9.28 km\n",
      "    number_of_lines: 13\n",
      "    number_of_columns: 15\n",
      "    measure: Mean\n",
      "    suggested_image_scaling_minimum: 0.0\n",
      "    suggested_image_scaling_maximum: 350.0\n",
      "    suggested_image_scaling_type: LINEAR\n",
      "    suggested_image_scaling_applied: No\n",
      "    _lastModified: 2016-07-05T13:07:02.000Z\n",
      "    Conventions: CF-1.6\n",
      "    institution: NASA Goddard Space Flight Center, Ocean Ecology Laboratory, Ocean Biology Processing Group\n",
      "    standard_name_vocabulary: NetCDF Climate and Forecast (CF) Metadata Convention\n",
      "    Metadata_Conventions: Unidata Dataset Discovery v1.0\n",
      "    naming_authority: gov.nasa.gsfc.sci.oceandata\n",
      "    id: L3/S1997302193636_silent.L3b\n",
      "    license: http://science.nasa.gov/earth-science/earth-science-data/data-information-policy/\n",
      "    creator_name: NASA/GSFC/OBPG\n",
      "    publisher_name: NASA/GSFC/OBPG\n",
      "    creator_email: data@oceancolor.gsfc.nasa.gov\n",
      "    publisher_email: data@oceancolor.gsfc.nasa.gov\n",
      "    creator_url: http://oceandata.sci.gsfc.nasa.gov\n",
      "    publisher_url: http://oceandata.sci.gsfc.nasa.gov\n",
      "    processing_level: L3 Mapped\n",
      "    cdm_data_type: grid\n",
      "    identifier_product_doi_authority: http://dx.doi.org\n",
      "    identifier_product_doi: http://dx.doi.org\n",
      "    keywords: Oceans > Ocean Chemistry > Chlorophyll; Oceans > Ocean Optics > Ocean Color\n",
      "    keywords_vocabulary: NASA Global Change Master Directory (GCMD) Science Keywords\n",
      "    data_bins: 161\n",
      "    data_minimum: 0.0\n",
      "    data_maximum: 189.533\n",
      "    dimensions(sizes): lat(13), lon(15), rgb(3), eightbitcolor(256)\n",
      "    variables(dimensions): float32 \u001b[4mLt_412\u001b[0m(lat,lon), float32 \u001b[4mLt_443\u001b[0m(lat,lon), float32 \u001b[4mLt_490\u001b[0m(lat,lon), float32 \u001b[4mLt_510\u001b[0m(lat,lon), float32 \u001b[4mLt_555\u001b[0m(lat,lon), float32 \u001b[4mLt_670\u001b[0m(lat,lon), float32 \u001b[4mLt_765\u001b[0m(lat,lon), float32 \u001b[4mLt_865\u001b[0m(lat,lon), int16 \u001b[4msolz\u001b[0m(lat,lon), int16 \u001b[4msola\u001b[0m(lat,lon), int16 \u001b[4msenz\u001b[0m(lat,lon), int16 \u001b[4msena\u001b[0m(lat,lon), int16 \u001b[4mRrs_412\u001b[0m(lat,lon), int16 \u001b[4mRrs_443\u001b[0m(lat,lon), int16 \u001b[4mRrs_490\u001b[0m(lat,lon), int16 \u001b[4mRrs_510\u001b[0m(lat,lon), int16 \u001b[4mRrs_555\u001b[0m(lat,lon), int16 \u001b[4mRrs_670\u001b[0m(lat,lon), int16 \u001b[4mRrs_765\u001b[0m(lat,lon), int16 \u001b[4mRrs_865\u001b[0m(lat,lon), float32 \u001b[4mchlor_a\u001b[0m(lat,lon), int16 \u001b[4ma_412_qaa\u001b[0m(lat,lon), int16 \u001b[4ma_443_qaa\u001b[0m(lat,lon), int16 \u001b[4ma_490_qaa\u001b[0m(lat,lon), int16 \u001b[4ma_510_qaa\u001b[0m(lat,lon), int16 \u001b[4ma_555_qaa\u001b[0m(lat,lon), int16 \u001b[4ma_670_qaa\u001b[0m(lat,lon), int16 \u001b[4ma_765_qaa\u001b[0m(lat,lon), int16 \u001b[4ma_865_qaa\u001b[0m(lat,lon), int16 \u001b[4mbb_412_qaa\u001b[0m(lat,lon), int16 \u001b[4mbb_443_qaa\u001b[0m(lat,lon), int16 \u001b[4mbb_490_qaa\u001b[0m(lat,lon), int16 \u001b[4mbb_510_qaa\u001b[0m(lat,lon), int16 \u001b[4mbb_555_qaa\u001b[0m(lat,lon), int16 \u001b[4mbb_670_qaa\u001b[0m(lat,lon), int16 \u001b[4mbb_765_qaa\u001b[0m(lat,lon), int16 \u001b[4mbb_865_qaa\u001b[0m(lat,lon), int16 \u001b[4maot_865\u001b[0m(lat,lon), float32 \u001b[4mowtd\u001b[0m(lat,lon), float32 \u001b[4mlat\u001b[0m(lat), float32 \u001b[4mlon\u001b[0m(lon), uint8 \u001b[4mpalette\u001b[0m(rgb,eightbitcolor)\n",
      "    groups: processing_control\n",
      "\n"
     ]
    }
   ],
   "source": [
    "ds = nc.Dataset(fpL3m)\n",
    "print(ds)"
   ]
  },
  {
   "cell_type": "code",
   "execution_count": 37,
   "metadata": {
    "collapsed": false
   },
   "outputs": [
    {
     "data": {
      "text/plain": [
       "'Equidistant Cylindrical'"
      ]
     },
     "execution_count": 37,
     "metadata": {},
     "output_type": "execute_result"
    }
   ],
   "source": [
    "ds.map_projection"
   ]
  },
  {
   "cell_type": "code",
   "execution_count": 39,
   "metadata": {
    "collapsed": false
   },
   "outputs": [
    {
     "name": "stdout",
     "output_type": "stream",
     "text": [
      "<class 'netCDF4._netCDF4.Variable'>\n",
      "int16 Rrs_412(lat, lon)\n",
      "    long_name: Remote sensing reflectance at 412 nm\n",
      "    scale_factor: 2e-06\n",
      "    add_offset: 0.05\n",
      "    units: sr^-1\n",
      "    standard_name: surface_ratio_of_upwelling_radiance_emerging_from_sea_water_to_downwelling_radiative_flux_in_air\n",
      "    _FillValue: -32767\n",
      "    valid_min: -30000\n",
      "    valid_max: 25000\n",
      "    display_scale: linear\n",
      "    display_min: 0.0\n",
      "    display_max: 0.025\n",
      "unlimited dimensions: \n",
      "current shape = (13, 15)\n",
      "filling on\n"
     ]
    }
   ],
   "source": [
    "print(ds.variables['Rrs_412'])\n",
    "rrs412_L3m = ds.variables['Rrs_412'][:]"
   ]
  },
  {
   "cell_type": "code",
   "execution_count": 43,
   "metadata": {
    "collapsed": false
   },
   "outputs": [
    {
     "name": "stdout",
     "output_type": "stream",
     "text": [
      "195\n",
      "float32\n",
      "<class 'numpy.ma.core.MaskedArray'>\n"
     ]
    }
   ],
   "source": [
    "print(rrs412_L3m.size)\n",
    "print(rrs412_L3m.dtype)\n",
    "print(type(rrs412_L3m))"
   ]
  },
  {
   "cell_type": "code",
   "execution_count": 44,
   "metadata": {
    "collapsed": false
   },
   "outputs": [
    {
     "name": "stdout",
     "output_type": "stream",
     "text": [
      "(161,)\n"
     ]
    }
   ],
   "source": [
    "print(rrs412_L3m.compressed().shape)"
   ]
  },
  {
   "cell_type": "code",
   "execution_count": 45,
   "metadata": {
    "collapsed": true
   },
   "outputs": [],
   "source": [
    "ds.close()"
   ]
  },
  {
   "cell_type": "code",
   "execution_count": null,
   "metadata": {
    "collapsed": true
   },
   "outputs": [],
   "source": []
  }
 ],
 "metadata": {
  "kernelspec": {
   "display_name": "Python 3",
   "language": "python",
   "name": "python3"
  },
  "language_info": {
   "codemirror_mode": {
    "name": "ipython",
    "version": 3
   },
   "file_extension": ".py",
   "mimetype": "text/x-python",
   "name": "python",
   "nbconvert_exporter": "python",
   "pygments_lexer": "ipython3",
   "version": "3.5.1"
  }
 },
 "nbformat": 4,
 "nbformat_minor": 0
}
